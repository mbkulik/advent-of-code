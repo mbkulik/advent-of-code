{
 "cells": [
  {
   "cell_type": "markdown",
   "metadata": {},
   "source": [
    "# 2018 Advent of Code Challenges"
   ]
  },
  {
   "cell_type": "markdown",
   "metadata": {},
   "source": [
    "## Day 1\n",
    "\n",
    "Here is the [link](https://adventofcode.com/2018/day/1) to the directions.\n"
   ]
  },
  {
   "cell_type": "code",
   "execution_count": 1,
   "metadata": {},
   "outputs": [
    {
     "name": "stdout",
     "output_type": "stream",
     "text": [
      "Part A: 508\n",
      "Part B: 549\n"
     ]
    }
   ],
   "source": [
    "data = []\n",
    "\n",
    "with open('2018/input1', 'r') as f:\n",
    "    for line in f:\n",
    "        op = line[0]\n",
    "        val = int(line[1:])\n",
    "        \n",
    "        if op == '-':\n",
    "            val = -val\n",
    "            \n",
    "        data.append(val)\n",
    "            \n",
    "print('Part A: {0}'.format(sum(data)))\n",
    "    \n",
    "    \n",
    "found_dup = False\n",
    "cur_freq = 0\n",
    "seen_freqs = set()\n",
    "seen_freqs.add(cur_freq)\n",
    "    \n",
    "while not found_dup:\n",
    "    for d in data:\n",
    "        cur_freq += d\n",
    "            \n",
    "        if not cur_freq in seen_freqs:\n",
    "            seen_freqs.add(cur_freq)\n",
    "        else:\n",
    "            print('Part B: {0}'.format(cur_freq))\n",
    "            found_dup = True\n",
    "            break   "
   ]
  },
  {
   "cell_type": "markdown",
   "metadata": {},
   "source": [
    "## Day 2\n",
    "\n",
    "Directions [link](https://adventofcode.com/2018/day/2)"
   ]
  },
  {
   "cell_type": "code",
   "execution_count": 10,
   "metadata": {},
   "outputs": [
    {
     "name": "stdout",
     "output_type": "stream",
     "text": [
      "Part A: 6888\n",
      "Part B: icxjvbrobtunlelzpdmfkahgs\n"
     ]
    }
   ],
   "source": [
    "\n",
    "data = []\n",
    "\n",
    "with open('2018/input2', 'r') as f:\n",
    "    for line in f:\n",
    "        line = line.strip()\n",
    "        data.append(line)\n",
    "        \n",
    "num2 = 0\n",
    "num3 = 0        \n",
    "        \n",
    "for d in data:\n",
    "    mdict = {}\n",
    "\n",
    "    for char in d:\n",
    "        mdict[char] = d.count(char)\n",
    "        \n",
    "    if 2 in mdict.values():\n",
    "        num2 += 1\n",
    "            \n",
    "    if 3 in mdict.values():\n",
    "        num3 += 1\n",
    "    \n",
    "print('Part A: {0}'.format(num2*num3))\n",
    "                \n",
    "found = False\n",
    "for i in range(len(data)):\n",
    "    if found:\n",
    "        break\n",
    "    for j in range(len(data) -1):\n",
    "        list_i = list(data[i])\n",
    "        list_j = list(data[j])\n",
    "        \n",
    "        list_len = len(list_i)\n",
    "        x = 0\n",
    "        diff_count = 0\n",
    "        while x < list_len:\n",
    "            if list_i[x] != list_j[x]:\n",
    "                diff_count += 1\n",
    "                list_len-= 1\n",
    "                list_i.pop(x)\n",
    "                list_j.pop(x)\n",
    "            else:\n",
    "                x += 1\n",
    "        \n",
    "        if diff_count == 1:\n",
    "            print('Part B: {0}'.format(''.join(list_i)))\n",
    "            found = True\n",
    "            break\n",
    "            \n",
    "        \n",
    "            \n",
    "        \n",
    "        \n",
    "        "
   ]
  },
  {
   "cell_type": "code",
   "execution_count": null,
   "metadata": {},
   "outputs": [],
   "source": []
  }
 ],
 "metadata": {
  "kernelspec": {
   "display_name": "Python 3",
   "language": "python",
   "name": "python3"
  },
  "language_info": {
   "codemirror_mode": {
    "name": "ipython",
    "version": 3
   },
   "file_extension": ".py",
   "mimetype": "text/x-python",
   "name": "python",
   "nbconvert_exporter": "python",
   "pygments_lexer": "ipython3",
   "version": "3.5.3"
  }
 },
 "nbformat": 4,
 "nbformat_minor": 2
}
