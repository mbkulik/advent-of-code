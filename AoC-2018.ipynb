{
 "cells": [
  {
   "cell_type": "markdown",
   "metadata": {},
   "source": [
    "# 2018 Advent of Code Challenges\n",
    "\n",
    "This year I am using advent of code as a way to experiment with Jupyter Notebooks and evaluate them as a possible teaching tool for computer science courses at my school.\n",
    "\n",
    "Up to now, I have not found a tool that is both easy for the students to use as well as fits into my workflow (which is primarily Linux and CLI based.\n",
    "\n",
    "#### Initial thoughts\n",
    "\n",
    "- I can see the power of mixing text and coding cells (less context switching between documents (classnotes) and code\n",
    "- Simple enough, yet has the full power of Python \"under the hood\"\n",
    "\n",
    "\n",
    "#### Open Questions\n",
    "\n",
    "1. Is there are replacement for the Turtle graphics module that can be used in Jupyter notebooks?\n",
    "2. How is the Java kernel? Can this be used in lieu of current tools (repl.it/eclipse/others)?"
   ]
  },
  {
   "cell_type": "markdown",
   "metadata": {},
   "source": [
    "## Day 1\n",
    "\n",
    "Here is the [link](https://adventofcode.com/2018/day/1) to the directions.\n"
   ]
  },
  {
   "cell_type": "code",
   "execution_count": 1,
   "metadata": {},
   "outputs": [
    {
     "name": "stdout",
     "output_type": "stream",
     "text": [
      "Part A: 508\n",
      "Part B: 549\n"
     ]
    }
   ],
   "source": [
    "data = []\n",
    "\n",
    "with open('2018/input1', 'r') as f:\n",
    "    for line in f:\n",
    "        op = line[0]\n",
    "        val = int(line[1:])\n",
    "        \n",
    "        if op == '-':\n",
    "            val = -val\n",
    "            \n",
    "        data.append(val)\n",
    "            \n",
    "print('Part A: {0}'.format(sum(data)))\n",
    "    \n",
    "    \n",
    "found_dup = False\n",
    "cur_freq = 0\n",
    "seen_freqs = set()\n",
    "seen_freqs.add(cur_freq)\n",
    "    \n",
    "while not found_dup:\n",
    "    for d in data:\n",
    "        cur_freq += d\n",
    "            \n",
    "        if not cur_freq in seen_freqs:\n",
    "            seen_freqs.add(cur_freq)\n",
    "        else:\n",
    "            print('Part B: {0}'.format(cur_freq))\n",
    "            found_dup = True\n",
    "            break   "
   ]
  },
  {
   "cell_type": "markdown",
   "metadata": {},
   "source": [
    "## Day 2\n",
    "\n",
    "Directions [link](https://adventofcode.com/2018/day/2)"
   ]
  },
  {
   "cell_type": "code",
   "execution_count": 2,
   "metadata": {},
   "outputs": [
    {
     "name": "stdout",
     "output_type": "stream",
     "text": [
      "Part A: 6888\n",
      "Part B: icxjvbrobtunlelzpdmfkahgs\n"
     ]
    }
   ],
   "source": [
    "\n",
    "data = []\n",
    "\n",
    "with open('2018/input2', 'r') as f:\n",
    "    for line in f:\n",
    "        line = line.strip()\n",
    "        data.append(line)\n",
    "        \n",
    "num2 = 0\n",
    "num3 = 0        \n",
    "        \n",
    "for d in data:\n",
    "    mdict = {}\n",
    "\n",
    "    for char in d:\n",
    "        mdict[char] = d.count(char)\n",
    "        \n",
    "    if 2 in mdict.values():\n",
    "        num2 += 1\n",
    "            \n",
    "    if 3 in mdict.values():\n",
    "        num3 += 1\n",
    "    \n",
    "print('Part A: {0}'.format(num2*num3))\n",
    "                \n",
    "found = False\n",
    "for i in range(len(data)):\n",
    "    if found:\n",
    "        break\n",
    "    for j in range(len(data) -1):\n",
    "        list_i = list(data[i])\n",
    "        list_j = list(data[j])\n",
    "        \n",
    "        list_len = len(list_i)\n",
    "        x = 0\n",
    "        diff_count = 0\n",
    "        while x < list_len:\n",
    "            if list_i[x] != list_j[x]:\n",
    "                diff_count += 1\n",
    "                list_len-= 1\n",
    "                list_i.pop(x)\n",
    "                list_j.pop(x)\n",
    "            else:\n",
    "                x += 1\n",
    "        \n",
    "        if diff_count == 1:\n",
    "            print('Part B: {0}'.format(''.join(list_i)))\n",
    "            found = True\n",
    "            break\n",
    "            \n",
    "        \n",
    "            \n",
    "        \n",
    "        \n",
    "        "
   ]
  },
  {
   "cell_type": "markdown",
   "metadata": {},
   "source": [
    "## Day 3\n",
    "\n",
    "Directions [link](https://adventofcode.com/2018/day/3)"
   ]
  },
  {
   "cell_type": "code",
   "execution_count": 3,
   "metadata": {},
   "outputs": [
    {
     "name": "stdout",
     "output_type": "stream",
     "text": [
      "Part A: 104241\n",
      "Part B: #806\n"
     ]
    }
   ],
   "source": [
    "import collections\n",
    "\n",
    "GridPoint = collections.namedtuple('GridPoint', 'id xloc yloc width height')\n",
    "\n",
    "data = []\n",
    "\n",
    "with open(\"2018/input3\", \"r\") as f:\n",
    "    for line in f:\n",
    "        line = line.strip().split()\n",
    "        id = line[0]\n",
    "        yloc = line[2][:-1].split(\",\")[0]\n",
    "        xloc = line[2][:-1].split(\",\")[1]\n",
    "        width = line[3].split(\"x\")[0]\n",
    "        height=line[3].split(\"x\")[1]\n",
    "        \n",
    "        p = GridPoint(id=id, xloc=int(xloc), yloc=int(yloc), width=int(width), height=int(height))\n",
    "        \n",
    "        data.append(p)\n",
    "        \n",
    "\n",
    "grid = {}\n",
    "    \n",
    "\n",
    "for gp in data:\n",
    "    for i in range(gp.xloc, gp.xloc + gp.height): #height is vertical so x directions\n",
    "        for j in range(gp.yloc, gp.yloc + gp.width): #width is horizontal so y directions\n",
    "            key = '{0},{1}'.format(i,j)\n",
    "            if key not in grid:\n",
    "                grid[key] = [gp.id]\n",
    "            else:\n",
    "                grid[key].append(gp.id)\n",
    "\n",
    "\n",
    "overlap = 0\n",
    "del_set = set()\n",
    "            \n",
    "for v in grid.values():\n",
    "    if len(v) > 1:\n",
    "        overlap += 1\n",
    "        v_set = set(v)\n",
    "        del_set.update(v_set)\n",
    "            \n",
    "print('Part A: {0}'.format(overlap))\n",
    "\n",
    "for gp in data:\n",
    "    if gp.id not in del_set:\n",
    "        print('Part B: {0}'.format(gp.id))\n",
    "        break\n",
    "\n"
   ]
  },
  {
   "cell_type": "markdown",
   "metadata": {},
   "source": [
    "## Day 4\n",
    "\n",
    "Direction [link](https://adventofcode.com/2018/day/4)"
   ]
  },
  {
   "cell_type": "code",
   "execution_count": 4,
   "metadata": {},
   "outputs": [
    {
     "name": "stdout",
     "output_type": "stream",
     "text": [
      "Part A: 109659\n",
      "Part B: 36371\n"
     ]
    }
   ],
   "source": [
    "import collections\n",
    "from operator import attrgetter\n",
    "\n",
    "Event = collections.namedtuple('Event', 'datetime event')\n",
    "\n",
    "data = []\n",
    "\n",
    "'''\n",
    "Read in the data file and sort into chronological order\n",
    "'''\n",
    "with open('2018/input4', 'r') as f:\n",
    "    for line in f:\n",
    "        line = line.strip().split(']')\n",
    "        e = Event(line[0].strip()[1:], line[1].strip())\n",
    "        data.append(e)\n",
    "        \n",
    "data = sorted(data, key=attrgetter('datetime'))\n",
    "\n",
    "'''\n",
    "Use a nested Dictionary to hold \n",
    "guard id -> sleep_times (time -> amount asleep)\n",
    "'''\n",
    "sleep_times = {}\n",
    "guard_index = None\n",
    "\n",
    "i = 0\n",
    "while i < len(data):\n",
    "    if data[i].event.find(\"Guard\") != -1:\n",
    "        guard_index = data[i].event.split()[1][1:]\n",
    "        if guard_index not in sleep_times:\n",
    "            d = {}\n",
    "            for t in range(60):\n",
    "                d[t] = 0\n",
    "            sleep_times[guard_index] = d\n",
    "        i += 1\n",
    "    else:\n",
    "        sleep_evt = data[i]\n",
    "        awake_evt = data[i+1]\n",
    "        \n",
    "        sleep = sleep_evt.datetime.split()[1].split(\":\")\n",
    "        awake = awake_evt.datetime.split()[1].split(\":\")\n",
    "    \n",
    "        for x in range(int(sleep[1]), int(awake[1])):\n",
    "            sleep_times[guard_index][x] += 1\n",
    "            \n",
    "        i += 2\n",
    "\n",
    "'''\n",
    "Find the guard with the longest overall sleep time\n",
    "'''\n",
    "longest_sleep_time = 0\n",
    "longest_sleep_time_id = None\n",
    "for k, v in sleep_times.items():\n",
    "    s = sum(v.values())\n",
    "    if s > longest_sleep_time:\n",
    "        longest_sleep_time = s\n",
    "        longest_sleep_time_id = k\n",
    "        \n",
    "\n",
    "'''\n",
    "find the time the most sleepiest guard was asleep the most\n",
    "'''\n",
    "minute = -1\n",
    "answer_a = 0\n",
    "for k,v in sleep_times[longest_sleep_time_id].items():\n",
    "    if v > minute:\n",
    "        minute = v\n",
    "        answer_a = int(k) * int(longest_sleep_time_id)\n",
    "        \n",
    "print('Part A: {0}'.format(answer_a))\n",
    " \n",
    "'''\n",
    "find the guard with the most frequent time asleep\n",
    "'''\n",
    "minute = -1\n",
    "answer_b = 0\n",
    "for gid, stimes in sleep_times.items():\n",
    "    for k,v in stimes.items():\n",
    "        if v > minute:\n",
    "            minute = v\n",
    "            answer_b = int(k) * int(gid)\n",
    "        \n",
    "print('Part B: {0}'.format(answer_b))"
   ]
  }
 ],
 "metadata": {
  "kernelspec": {
   "display_name": "Python 3",
   "language": "python",
   "name": "python3"
  },
  "language_info": {
   "codemirror_mode": {
    "name": "ipython",
    "version": 3
   },
   "file_extension": ".py",
   "mimetype": "text/x-python",
   "name": "python",
   "nbconvert_exporter": "python",
   "pygments_lexer": "ipython3",
   "version": "3.6.7"
  }
 },
 "nbformat": 4,
 "nbformat_minor": 2
}
